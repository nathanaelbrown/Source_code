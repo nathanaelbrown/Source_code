{
 "cells": [
  {
   "cell_type": "code",
   "execution_count": 9,
   "metadata": {},
   "outputs": [
    {
     "name": "stdout",
     "output_type": "stream",
     "text": [
      "b'   \\n   \\n   \\n  \\n\\n01/06/2009  14:       \\n\\nAK  Entity  #:  120699 \\nDate  Filed:  01/14/2009  12:00  AM \\n\\nDepartment  of  Commerce \\n\\nState  of  Alaska \\n\\n    \\n\\n  \\n\\nra? \\n\\nARTICLES  OF  INCORPORATION \\nOF \\n\\nF/V  Fiona,  Inc.. \\n\\nKNOW ALL  MEN  BY  THESE  PRESENTS: \\n\\nThat  Charles  W.  McWethy,  being  a  natural  person  more  than  eighteen  (18)  years  of \\n|  age,  and  for  the  purpose  of  forming  a  corporation  under  the  Alaska  Corporations  Code, \\nSection \\nadopts \\n\\ncertifies \\n\\nhereby \\n\\n10. 06, \\n\\nand \\n\\nin \\n\\nduplicate \\n\\nthe \\n\\nfollowing \\n\\nArticles \\n\\nof \\n\\nIncorporation. \\n\\n\\xe2\\x80\\x94 \\n\\n| \\n\\n| \\n\\nARTICLE! \\n\\nThe  name  of  the  corporation  shall  be  F/V  Fiona,  Inc.  and  its  existence  shall  be \\n\\nARTICLE  Il \\n\\n\\xe2\\x80\\x98The  purpose  and  object  of  this  corporation  shall  be  to  engage  in  the  ownership  and \\nOperation  of  fishing  vessels  and  for  all  other  lawful  purposes  under  the  laws  of  the  State  of \\nAlaska. \\n\\n| \\n\\n| \\n\\nPROVIDED,  HOWEVER,  that  nothing  herein  contained  shall \\n\\nbe  deemed  to \\nauthorize  or  permit  the  corporation  to  carry  on  any  business,  to  exercise  any  power  or  to \\ndo  any  act  which  a  corporation  formed  under  AS  10.06,  the  Alaska  Corporations  Code,  or \\nany  amendment  thereto  or  substitute  therefore,  may  not  at  the  time  lawfully  carry  on  or \\ndo. \\n\\n| \\n\\n| \\n\\nARTICLE  Hit \\n\\nShareholders  of  this  corporation  shall \\n\\nnot  have  pre-emptive  rights  to \\n\\nacquire \\n\\nadditional  shares  offered  for  sale  by  the  corporation. \\n\\nQ:A24\\\\24673\\\\0200\\\\08DEC31  FIONA  ART.DOC \\n\\n-|- \\n| \\n\\nState  of  Alaska \\nDomestic  Corporation  Formation  3  Page(s) \\n\\nMN \\n\\ni\\n\\n  \\n    \\n\\n  \\n\\n  \\n\\n\\x0cFrom:DICK \\n\\n01/06/2009  14:08 \\n\\n#304  P.003/004 \\n\\n{ ~ \\n\\n(\\xe2\\x80\\x94 \\n\\n1. \\n\\nThe  location  and  post  office  address  of  the  registered  office  of  the  corporation  in \\n\\nthis  State  shall be  2561  Beaver  Lake  Drive,  Kodiak,  Alaska  99615. \\n8  the  registered  agent  of  the  corporation  shall  be  Deb  McCusker  whose  address  is \\n2561  Beaver  Lake  Drive,  Kodiak,  Alaska  99615. \\n\\n| \\n\\n| \\n\\nARTICLE  IV \\n\\nARTICLE  V \\n\\nThe  authorized  capital  stock  of  the  corporation  shall  be  $100,000  consisting  of \\n100 000  shares  of  common  stock  of  the par  value  of  $1.00  per  share.  Bach  share  shall  be \\nentitled  to  one  (1)  vote. \\nThe  paid-in  capital of  the  corporation, or  the  amount  with  which  it \\n.  will  conduct  its +  business,  shall  be  the  sum  of  not  less  than  $1,000; ;  said  amount  to  be  paid \\neither  in  cash  or  with  other  property,  tangible  or  intangible,  or  with  necessary  services \\nactually  rendered  to  the  corporation  at  a  fair  valuation. \\n\\n| \\n\\nThe  corporation  reserves  the  right:  to  amend,  alter,  change  or  repeal  any  provision \\ncontained  in  its  Articles  of  Incorporation  in  any  manner  now  or  hereafter  prescribed  or \\npermitted  by statute.  All  rights  of  stockholders  of  the  corporation  are  granted  subject  1 to \\nthis reservation. \\n\\nARTICLE  VI \\n\\n1. \\n\\nThe  number  of  directors  of  this  corporation  shall  be  fixed  as  provided  in  the  by- \\nlaws,  and  may  be  changed  from  time  to  time  by  amending  the  by-laws  as  therein  provided, \\nbut  the  number  of directors  shall  not  be  less  than  one  (1)  or  more  than  three  (3). \\n\\n2. \\n\\nThe  first  directors  of  this  corporation  shall  be  two  (2)  in  number  with  post  office \\n\\naddresses  as  follows: \\n\\n|  Charles  W.  McWethy \\n\\n1303  S.  Tyler  Ave.,  Loveland,  Co  80537 \\n\\n| \\n\\n| \\n\\n-2- \\n\\nQ:\\\\24\\\\24673\\\\0200\\\\DN08SDEC31  FIONA  ART.DOC\\n\\n  \\n\\n\\x0cFrom:  DICK \\n\\n01/06/2009  14:08 \\n\\n#304  P.  004/004 \\n\\nC~ \\n\\nAmn  M. MeWethy \\n\\n1303  S.  Tyler  Ave,  mliaiae  Co  80537 \\n\\nThe  term  of  the  directors  shall  be  until  the  first  annual  meeting  of  the  stockholders \\nof  the  corporation,  to  me  held in  the  month  of  December  beginning in  2010,  and  until  their \\nsuccessors  are  elected  and  qualified. \\n\\n| \\n\\n| \\n\\nARTICLE  VII \\n\\nThe  name  and  post  office  address  of  the  incotporaite  is: \\n\\nCharles  W.  McWethy \\n\\n1303  South  Tyler  Ave.,  Loveland,  Co  80537 \\n\\nARTICLE  VI \\n\\nNo  owner  or  affiliate  of this  corporation \\n\\nshall  be  a  non-resident  alien. \\n\\nIN  WITNESS  WHEREOF,  the  inco \\n\\nrporator  hereinabove  named  has  hereunto  set \\n\\n\\xe2\\x80\\x9c(his  or  her)  band  in  duplicate,  this  15 ~ day  of Lau,  20 2008-  00  T \\n\\nSTATE  OF  COLORADO \\n\\n+) \\n\\nOn  this  day  personally  appeared  before  me  Charles  W.  McWethy  to  me  known  to \\nbe  the  individual  described  in  and  who  executed  the  within  and  foregoing  instrument,  and \\ns  free  and  voluntary  act  and  deed,  for  the  uses \\nand  purposes  therein  mentioned. \\n\\n_  acknowledged  that  he  signed  the  same  as  hi \\n\\nPIVEN  under  my  hand  and  official  seal  this Day of  (  Qua \\n\\n2008.  2004 \\n\\nHe \\n\\n   \\n\\nXn z  yihirt  |  AQ \\nIN \\nULAR \\nof\" Colorado \\n\\nPUBLIC)  ip  4xic  for \\xe2\\x80\\x98the  Stato\\xe2\\x80\\x9d \\n\\nrinted  name: \\n\\nMy  Commission  Expires: \\n\\n. \\n\\nS \\n\\n     \\n\\n| \\n\\ntenn s  \\xc2\\xa9 \\n\\nly Commission  Expires:  010772012 \\n\\n~3- \\n\\nQ:\\\\24\\\\246730200\\\\DWEDEC3 1  FIONA  ART  DOC \\n\\n \\n\\n  \\n\\n  \\n\\n  \\n  \\n\\n  \\n\\n\\x0c'\n"
     ]
    }
   ],
   "source": [
    "from pdfminer.pdfinterp import PDFResourceManager, PDFPageInterpreter\n",
    "from pdfminer.converter import TextConverter\n",
    "from pdfminer.layout import LAParams\n",
    "from pdfminer.pdfpage import PDFPage\n",
    "from io import BytesIO\n",
    "\n",
    "def pdf_to_text(path):\n",
    "    manager = PDFResourceManager()\n",
    "    retstr = BytesIO()\n",
    "    layout = LAParams(all_texts=True)\n",
    "    device = TextConverter(manager, retstr, laparams=layout)\n",
    "    filepath = open(path, 'rb')\n",
    "    interpreter = PDFPageInterpreter(manager, device)\n",
    "\n",
    "    for page in PDFPage.get_pages(filepath, check_extractable=True):\n",
    "        interpreter.process_page(page)\n",
    "\n",
    "    text = retstr.getvalue()\n",
    "\n",
    "    filepath.close()\n",
    "    device.close()\n",
    "    retstr.close()\n",
    "    return text\n",
    "\n",
    "\n",
    "if __name__ == \"__main__\":\n",
    "    text = pdf_to_text(\"RA_1/120699_1-14-2009_Creation Filing.pdf_searchable.pdf\")\n",
    "    print(text)"
   ]
  },
  {
   "cell_type": "code",
   "execution_count": null,
   "metadata": {},
   "outputs": [],
   "source": []
  }
 ],
 "metadata": {
  "kernelspec": {
   "display_name": "Python 3",
   "language": "python",
   "name": "python3"
  },
  "language_info": {
   "codemirror_mode": {
    "name": "ipython",
    "version": 3
   },
   "file_extension": ".py",
   "mimetype": "text/x-python",
   "name": "python",
   "nbconvert_exporter": "python",
   "pygments_lexer": "ipython3",
   "version": "3.7.6"
  }
 },
 "nbformat": 4,
 "nbformat_minor": 4
}
